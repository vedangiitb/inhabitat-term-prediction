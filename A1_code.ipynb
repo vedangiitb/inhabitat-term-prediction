{
 "cells": [
  {
   "cell_type": "code",
   "execution_count": 1,
   "metadata": {},
   "outputs": [],
   "source": [
    "import pandas as pd"
   ]
  },
  {
   "cell_type": "markdown",
   "metadata": {},
   "source": [
    "## Data preprocessing "
   ]
  },
  {
   "cell_type": "code",
   "execution_count": 301,
   "metadata": {},
   "outputs": [],
   "source": [
    "df = pd.read_excel(\"Inhabitant-term Data.xlsx\")"
   ]
  },
  {
   "cell_type": "code",
   "execution_count": 302,
   "metadata": {},
   "outputs": [
    {
     "data": {
      "text/html": [
       "<div>\n",
       "<style scoped>\n",
       "    .dataframe tbody tr th:only-of-type {\n",
       "        vertical-align: middle;\n",
       "    }\n",
       "\n",
       "    .dataframe tbody tr th {\n",
       "        vertical-align: top;\n",
       "    }\n",
       "\n",
       "    .dataframe thead th {\n",
       "        text-align: right;\n",
       "    }\n",
       "</style>\n",
       "<table border=\"1\" class=\"dataframe\">\n",
       "  <thead>\n",
       "    <tr style=\"text-align: right;\">\n",
       "      <th></th>\n",
       "      <th>City</th>\n",
       "      <th>Inhabitant Term</th>\n",
       "    </tr>\n",
       "  </thead>\n",
       "  <tbody>\n",
       "    <tr>\n",
       "      <th>0</th>\n",
       "      <td>Chandrapur</td>\n",
       "      <td>Chandrapurkar</td>\n",
       "    </tr>\n",
       "    <tr>\n",
       "      <th>1</th>\n",
       "      <td>Gadchiroli</td>\n",
       "      <td>Gadchirolikar</td>\n",
       "    </tr>\n",
       "    <tr>\n",
       "      <th>2</th>\n",
       "      <td>Wardha</td>\n",
       "      <td>Wardhikar</td>\n",
       "    </tr>\n",
       "    <tr>\n",
       "      <th>3</th>\n",
       "      <td>Buldhana</td>\n",
       "      <td>Buldhanakar</td>\n",
       "    </tr>\n",
       "    <tr>\n",
       "      <th>4</th>\n",
       "      <td>Latur</td>\n",
       "      <td>Laturkar</td>\n",
       "    </tr>\n",
       "  </tbody>\n",
       "</table>\n",
       "</div>"
      ],
      "text/plain": [
       "         City Inhabitant Term\n",
       "0  Chandrapur   Chandrapurkar\n",
       "1  Gadchiroli   Gadchirolikar\n",
       "2      Wardha       Wardhikar\n",
       "3    Buldhana     Buldhanakar\n",
       "4       Latur        Laturkar"
      ]
     },
     "execution_count": 302,
     "metadata": {},
     "output_type": "execute_result"
    }
   ],
   "source": [
    "df.head()"
   ]
  },
  {
   "cell_type": "code",
   "execution_count": 312,
   "metadata": {},
   "outputs": [],
   "source": [
    "suff_arr = []\n",
    "for i in range(len(df)):\n",
    "    city = df.iloc[i]['City']\n",
    "    inhab = df.iloc[i]['Inhabitant Term']\n",
    "\n",
    "    i = 0\n",
    "    j = 0\n",
    "    cityLen = len(city)\n",
    "    inhabLen = len(inhab)\n",
    "\n",
    "    while i<=cityLen-1 and j<=inhabLen-1 and city[i]==inhab[i]:\n",
    "        i+=1\n",
    "        j+=1\n",
    "    \n",
    "    suff_arr.append(inhab[j:])\n"
   ]
  },
  {
   "cell_type": "code",
   "execution_count": 313,
   "metadata": {},
   "outputs": [],
   "source": [
    "df['Suffix'] = suff_arr"
   ]
  },
  {
   "cell_type": "code",
   "execution_count": 314,
   "metadata": {},
   "outputs": [
    {
     "data": {
      "text/html": [
       "<div>\n",
       "<style scoped>\n",
       "    .dataframe tbody tr th:only-of-type {\n",
       "        vertical-align: middle;\n",
       "    }\n",
       "\n",
       "    .dataframe tbody tr th {\n",
       "        vertical-align: top;\n",
       "    }\n",
       "\n",
       "    .dataframe thead th {\n",
       "        text-align: right;\n",
       "    }\n",
       "</style>\n",
       "<table border=\"1\" class=\"dataframe\">\n",
       "  <thead>\n",
       "    <tr style=\"text-align: right;\">\n",
       "      <th></th>\n",
       "      <th>City</th>\n",
       "      <th>Inhabitant Term</th>\n",
       "      <th>Suffix</th>\n",
       "      <th>lattitude</th>\n",
       "      <th>longitude</th>\n",
       "    </tr>\n",
       "  </thead>\n",
       "  <tbody>\n",
       "    <tr>\n",
       "      <th>0</th>\n",
       "      <td>Chandrapur</td>\n",
       "      <td>Chandrapurkar</td>\n",
       "      <td>kar</td>\n",
       "      <td>19.950816</td>\n",
       "      <td>79.298667</td>\n",
       "    </tr>\n",
       "    <tr>\n",
       "      <th>1</th>\n",
       "      <td>Gadchiroli</td>\n",
       "      <td>Gadchirolikar</td>\n",
       "      <td>kar</td>\n",
       "      <td>20.185397</td>\n",
       "      <td>80.003509</td>\n",
       "    </tr>\n",
       "    <tr>\n",
       "      <th>2</th>\n",
       "      <td>Wardha</td>\n",
       "      <td>Wardhikar</td>\n",
       "      <td>ikar</td>\n",
       "      <td>20.746494</td>\n",
       "      <td>78.599792</td>\n",
       "    </tr>\n",
       "    <tr>\n",
       "      <th>3</th>\n",
       "      <td>Buldhana</td>\n",
       "      <td>Buldhanakar</td>\n",
       "      <td>kar</td>\n",
       "      <td>20.532080</td>\n",
       "      <td>76.179911</td>\n",
       "    </tr>\n",
       "    <tr>\n",
       "      <th>4</th>\n",
       "      <td>Latur</td>\n",
       "      <td>Laturkar</td>\n",
       "      <td>kar</td>\n",
       "      <td>18.398339</td>\n",
       "      <td>76.562087</td>\n",
       "    </tr>\n",
       "  </tbody>\n",
       "</table>\n",
       "</div>"
      ],
      "text/plain": [
       "         City Inhabitant Term Suffix  lattitude  longitude\n",
       "0  Chandrapur   Chandrapurkar    kar  19.950816  79.298667\n",
       "1  Gadchiroli   Gadchirolikar    kar  20.185397  80.003509\n",
       "2      Wardha       Wardhikar   ikar  20.746494  78.599792\n",
       "3    Buldhana     Buldhanakar    kar  20.532080  76.179911\n",
       "4       Latur        Laturkar    kar  18.398339  76.562087"
      ]
     },
     "execution_count": 314,
     "metadata": {},
     "output_type": "execute_result"
    }
   ],
   "source": [
    "df.head()"
   ]
  },
  {
   "cell_type": "code",
   "execution_count": 6,
   "metadata": {},
   "outputs": [],
   "source": [
    "def get_geospatial_locations(place_name):\n",
    "    access_token = 'pk.eyJ1IjoidmVkYW5naWl0YiIsImEiOiJjbGl2dHg0emkwY2R2M3NuNTF2c2Z2NHp4In0.yRK2FNlaIwNGujG51viPuw'\n",
    "    base_url = \"https://api.mapbox.com/geocoding/v5/mapbox.places/\"\n",
    "    params = {\n",
    "        \"access_token\": access_token,\n",
    "        \"types\": \"place\",\n",
    "        \"limit\": 1\n",
    "    }\n",
    "\n",
    "    response = requests.get(base_url + f\"{place_name}.json\", params=params)\n",
    "    \n",
    "    if response.status_code == 200:\n",
    "        data = response.json()\n",
    "        locations = []\n",
    "        \n",
    "        for feature in data['features']:\n",
    "            place = feature['place_name']\n",
    "            longitude, latitude = feature['center']\n",
    "            locations.append({\n",
    "                'place': place,\n",
    "                'latitude': latitude,\n",
    "                'longitude': longitude\n",
    "            })\n",
    "        \n",
    "        return locations\n",
    "    else:\n",
    "        print(\"Error:\", response.status_code)\n",
    "        return None"
   ]
  },
  {
   "cell_type": "code",
   "execution_count": 7,
   "metadata": {},
   "outputs": [],
   "source": [
    "import requests"
   ]
  },
  {
   "cell_type": "code",
   "execution_count": 308,
   "metadata": {},
   "outputs": [
    {
     "name": "stdout",
     "output_type": "stream",
     "text": [
      "No coordinate available forSindhudurg\n",
      "No coordinate available forBarddhaman\n",
      "No coordinate available forYankgaon\n",
      "No coordinate available forMokokchung\n",
      "No coordinate available forJharkhand\n",
      "No coordinate available forMaharashtra\n",
      "No coordinate available forMeghalaya\n",
      "No coordinate available forMizoram\n",
      "No coordinate available forNagaland\n",
      "No coordinate available forRajasthan\n",
      "No coordinate available forTelangana\n",
      "No coordinate available forUttarakhand\n",
      "No coordinate available forLakshadweep\n",
      "No coordinate available forConnecticut\n",
      "No coordinate available forMassachusetts\n",
      "No coordinate available forHokkaido\n",
      "No coordinate available forChungcheong\n",
      "No coordinate available forChikkamagaluru\n",
      "No coordinate available forMokokchung\n",
      "No coordinate available forJhalawar\n",
      "No coordinate available forBanaskantha\n",
      "No coordinate available forGir Somnath\n",
      "No coordinate available forMahisagar\n",
      "No coordinate available forSabarkantha\n",
      "No coordinate available forKurukshetra\n",
      "No coordinate available forBardhaman\n",
      "No coordinate available forBirbhum\n",
      "No coordinate available forHooghly\n"
     ]
    }
   ],
   "source": [
    "# Getting geoCoded data\n",
    "lats = []\n",
    "longs = []\n",
    "for i in range(len(df)):\n",
    "    geospatial_locations = get_geospatial_locations(df.iloc[i]['City'])\n",
    "    if not len(geospatial_locations):\n",
    "        print(f\"No coordinate available for{df.iloc[i]['City']}\")\n",
    "        lat = None\n",
    "        longi = None\n",
    "    else:\n",
    "        lat = geospatial_locations[0]['latitude']\n",
    "        longi = geospatial_locations[0]['longitude']\n",
    "    lats.append(lat)\n",
    "    longs.append(longi)"
   ]
  },
  {
   "cell_type": "code",
   "execution_count": 309,
   "metadata": {},
   "outputs": [],
   "source": [
    "df['lattitude'] = lats \n",
    "df['longitude'] = longs"
   ]
  },
  {
   "cell_type": "code",
   "execution_count": 315,
   "metadata": {},
   "outputs": [],
   "source": [
    "df.to_excel('data_updated.xlsx')"
   ]
  },
  {
   "cell_type": "code",
   "execution_count": 85,
   "metadata": {},
   "outputs": [],
   "source": [
    "df.loc[295,'lattitude'] = 43.369420\n",
    "df.loc[295,'longitude'] = 142.704834"
   ]
  },
  {
   "cell_type": "code",
   "execution_count": 110,
   "metadata": {},
   "outputs": [],
   "source": [
    "df.to_excel('data_updated.xlsx')"
   ]
  },
  {
   "cell_type": "code",
   "execution_count": 109,
   "metadata": {},
   "outputs": [
    {
     "data": {
      "text/html": [
       "<div>\n",
       "<style scoped>\n",
       "    .dataframe tbody tr th:only-of-type {\n",
       "        vertical-align: middle;\n",
       "    }\n",
       "\n",
       "    .dataframe tbody tr th {\n",
       "        vertical-align: top;\n",
       "    }\n",
       "\n",
       "    .dataframe thead th {\n",
       "        text-align: right;\n",
       "    }\n",
       "</style>\n",
       "<table border=\"1\" class=\"dataframe\">\n",
       "  <thead>\n",
       "    <tr style=\"text-align: right;\">\n",
       "      <th></th>\n",
       "      <th>City</th>\n",
       "      <th>Inhabitant Term</th>\n",
       "      <th>Ending Letter</th>\n",
       "      <th>Suffix</th>\n",
       "      <th>lattitude</th>\n",
       "      <th>longitude</th>\n",
       "    </tr>\n",
       "  </thead>\n",
       "  <tbody>\n",
       "    <tr>\n",
       "      <th>0</th>\n",
       "      <td>Abohar</td>\n",
       "      <td>Abohari</td>\n",
       "      <td>r</td>\n",
       "      <td>i</td>\n",
       "      <td>30.145054</td>\n",
       "      <td>74.195660</td>\n",
       "    </tr>\n",
       "    <tr>\n",
       "      <th>1</th>\n",
       "      <td>Achalpur</td>\n",
       "      <td>Achalpuri</td>\n",
       "      <td>r</td>\n",
       "      <td>i</td>\n",
       "      <td>21.254670</td>\n",
       "      <td>77.508643</td>\n",
       "    </tr>\n",
       "    <tr>\n",
       "      <th>2</th>\n",
       "      <td>Adoor</td>\n",
       "      <td>Adoorite</td>\n",
       "      <td>r</td>\n",
       "      <td>ite</td>\n",
       "      <td>9.152966</td>\n",
       "      <td>76.735574</td>\n",
       "    </tr>\n",
       "    <tr>\n",
       "      <th>3</th>\n",
       "      <td>Agra</td>\n",
       "      <td>Agraan</td>\n",
       "      <td>a</td>\n",
       "      <td>an</td>\n",
       "      <td>27.175255</td>\n",
       "      <td>78.009816</td>\n",
       "    </tr>\n",
       "    <tr>\n",
       "      <th>4</th>\n",
       "      <td>Agartala</td>\n",
       "      <td>Agartalian</td>\n",
       "      <td>a</td>\n",
       "      <td>ian</td>\n",
       "      <td>23.831238</td>\n",
       "      <td>91.282382</td>\n",
       "    </tr>\n",
       "  </tbody>\n",
       "</table>\n",
       "</div>"
      ],
      "text/plain": [
       "       City Inhabitant Term Ending Letter Suffix  lattitude  longitude\n",
       "0    Abohar         Abohari             r      i  30.145054  74.195660\n",
       "1  Achalpur       Achalpuri             r      i  21.254670  77.508643\n",
       "2     Adoor        Adoorite             r    ite   9.152966  76.735574\n",
       "3      Agra          Agraan             a     an  27.175255  78.009816\n",
       "4  Agartala      Agartalian             a    ian  23.831238  91.282382"
      ]
     },
     "execution_count": 109,
     "metadata": {},
     "output_type": "execute_result"
    }
   ],
   "source": [
    "df.head()"
   ]
  },
  {
   "cell_type": "code",
   "execution_count": 112,
   "metadata": {},
   "outputs": [],
   "source": [
    "df = pd.read_excel('data_updated.xlsx')"
   ]
  },
  {
   "cell_type": "code",
   "execution_count": 115,
   "metadata": {},
   "outputs": [],
   "source": [
    "df.drop(df.columns[0],axis=1,inplace=True)"
   ]
  },
  {
   "cell_type": "code",
   "execution_count": 116,
   "metadata": {},
   "outputs": [
    {
     "data": {
      "text/html": [
       "<div>\n",
       "<style scoped>\n",
       "    .dataframe tbody tr th:only-of-type {\n",
       "        vertical-align: middle;\n",
       "    }\n",
       "\n",
       "    .dataframe tbody tr th {\n",
       "        vertical-align: top;\n",
       "    }\n",
       "\n",
       "    .dataframe thead th {\n",
       "        text-align: right;\n",
       "    }\n",
       "</style>\n",
       "<table border=\"1\" class=\"dataframe\">\n",
       "  <thead>\n",
       "    <tr style=\"text-align: right;\">\n",
       "      <th></th>\n",
       "      <th>City</th>\n",
       "      <th>Inhabitant Term</th>\n",
       "      <th>Ending Letter</th>\n",
       "      <th>Suffix</th>\n",
       "      <th>lattitude</th>\n",
       "      <th>longitude</th>\n",
       "    </tr>\n",
       "  </thead>\n",
       "  <tbody>\n",
       "    <tr>\n",
       "      <th>0</th>\n",
       "      <td>Abohar</td>\n",
       "      <td>Abohari</td>\n",
       "      <td>r</td>\n",
       "      <td>i</td>\n",
       "      <td>30.145054</td>\n",
       "      <td>74.195660</td>\n",
       "    </tr>\n",
       "    <tr>\n",
       "      <th>1</th>\n",
       "      <td>Achalpur</td>\n",
       "      <td>Achalpuri</td>\n",
       "      <td>r</td>\n",
       "      <td>i</td>\n",
       "      <td>21.254670</td>\n",
       "      <td>77.508643</td>\n",
       "    </tr>\n",
       "    <tr>\n",
       "      <th>2</th>\n",
       "      <td>Adoor</td>\n",
       "      <td>Adoorite</td>\n",
       "      <td>r</td>\n",
       "      <td>ite</td>\n",
       "      <td>9.152966</td>\n",
       "      <td>76.735574</td>\n",
       "    </tr>\n",
       "    <tr>\n",
       "      <th>3</th>\n",
       "      <td>Agra</td>\n",
       "      <td>Agraan</td>\n",
       "      <td>a</td>\n",
       "      <td>an</td>\n",
       "      <td>27.175255</td>\n",
       "      <td>78.009816</td>\n",
       "    </tr>\n",
       "    <tr>\n",
       "      <th>4</th>\n",
       "      <td>Agartala</td>\n",
       "      <td>Agartalian</td>\n",
       "      <td>a</td>\n",
       "      <td>ian</td>\n",
       "      <td>23.831238</td>\n",
       "      <td>91.282382</td>\n",
       "    </tr>\n",
       "  </tbody>\n",
       "</table>\n",
       "</div>"
      ],
      "text/plain": [
       "       City Inhabitant Term Ending Letter Suffix  lattitude  longitude\n",
       "0    Abohar         Abohari             r      i  30.145054  74.195660\n",
       "1  Achalpur       Achalpuri             r      i  21.254670  77.508643\n",
       "2     Adoor        Adoorite             r    ite   9.152966  76.735574\n",
       "3      Agra          Agraan             a     an  27.175255  78.009816\n",
       "4  Agartala      Agartalian             a    ian  23.831238  91.282382"
      ]
     },
     "execution_count": 116,
     "metadata": {},
     "output_type": "execute_result"
    }
   ],
   "source": [
    "df.head()"
   ]
  },
  {
   "cell_type": "markdown",
   "metadata": {},
   "source": [
    "## Appraoch #1: K Nearest Neighbors"
   ]
  },
  {
   "cell_type": "markdown",
   "metadata": {},
   "source": [
    "Method Details\n",
    "- Get K nearest neighbors for the name\n",
    "- There is no training step involved as such\n",
    "- Distance is measured as Euclidean distance, i.e. using Lattitude and longitude\n",
    "- (Can Try) -> Similarity of names as 3rd dimension\n",
    "- For the closest names -> think of a approach to select the most relevant suffix\n",
    "\n",
    "K => Hyperparam that we can fix"
   ]
  },
  {
   "cell_type": "code",
   "execution_count": 2,
   "metadata": {},
   "outputs": [],
   "source": [
    "import math\n",
    "def euclidean_dist(longi1,longi2,lat1,lat2):\n",
    "    return math.sqrt(pow(longi1-longi2,2) + pow(lat1-lat2,2))"
   ]
  },
  {
   "cell_type": "code",
   "execution_count": 8,
   "metadata": {},
   "outputs": [],
   "source": [
    "def get_inhab_name(place_name,k=7):\n",
    "    dict1 = dict()\n",
    "\n",
    "    geospatial_locations = get_geospatial_locations(place_name)\n",
    "\n",
    "    if len(geospatial_locations)==0:\n",
    "        print(\"Place doesn't exist\")\n",
    "        return 'ian'\n",
    "\n",
    "    lat_name = geospatial_locations[0]['latitude']\n",
    "    long_name = geospatial_locations[0]['longitude']\n",
    "\n",
    "    for i in range(len(df)):\n",
    "        dist1 = euclidean_dist(long_name,df.iloc[i]['longitude'],lat_name,df.iloc[i]['lattitude'])\n",
    "        if dist1!=0:\n",
    "            dict1[i] = dist1\n",
    "    \n",
    "    sorted_keys  = sorted(dict1,key=dict1.get)\n",
    "\n",
    "    suffixes = []\n",
    "    dist = []\n",
    "\n",
    "    for j in range(k):\n",
    "        suffixes.append(df.iloc[sorted_keys[j]]['Suffix'])\n",
    "        dist.append(dict1[i])\n",
    "    \n",
    "\n",
    "    dict2 = dict()\n",
    "    for i in range(len(suffixes)):\n",
    "        if suffixes[i] in dict2:\n",
    "            dict2[suffixes[i]]+=(1/dist[i])\n",
    "        else:\n",
    "            dict2[suffixes[i]]=(1/dist[i])\n",
    "\n",
    "    # Getting the suffix with the most score\n",
    "    possible_suffixes = sorted(dict2,key=dict2.get)\n",
    "    return possible_suffixes[0]"
   ]
  },
  {
   "cell_type": "code",
   "execution_count": 22,
   "metadata": {},
   "outputs": [],
   "source": [
    "df = pd.read_excel(\"data_updated_new.xlsx\")"
   ]
  },
  {
   "cell_type": "code",
   "execution_count": 31,
   "metadata": {},
   "outputs": [
    {
     "name": "stdout",
     "output_type": "stream",
     "text": [
      "Place doesn't exist\n",
      "Place doesn't exist\n",
      "Accuracy: 14.000000000000002 % \n"
     ]
    }
   ],
   "source": [
    "import random\n",
    "\n",
    "# Define the range for random numbers (0 to n)\n",
    "n = len(df)-1  # You can change this value to your desired upper limit\n",
    "\n",
    "# Generate 20 random numbers between 0 and n\n",
    "random_numbers = [random.randint(0, n) for _ in range(50)]\n",
    "\n",
    "# Print the generated random numbers\n",
    "count = 0\n",
    "for num in random_numbers:\n",
    "    pred_suff = get_inhab_name(df.iloc[num]['City'])\n",
    "    if pred_suff==df.iloc[num]['Suffix']:\n",
    "        count+=1\n",
    "\n",
    "print(f\"Accuracy: {count/len(random_numbers)*100} % \")"
   ]
  },
  {
   "cell_type": "code",
   "execution_count": 30,
   "metadata": {},
   "outputs": [],
   "source": [
    "df['lattitude'] = df['lattitude'].apply(lambda x: float(x))"
   ]
  },
  {
   "cell_type": "code",
   "execution_count": 28,
   "metadata": {},
   "outputs": [],
   "source": [
    "df['longitude'] = df['longitude'].apply(lambda x: float(x))"
   ]
  },
  {
   "cell_type": "code",
   "execution_count": 29,
   "metadata": {},
   "outputs": [],
   "source": [
    "df.loc[170,'lattitude']= 11.7861"
   ]
  },
  {
   "cell_type": "code",
   "execution_count": 27,
   "metadata": {},
   "outputs": [],
   "source": [
    "df.loc[758,'longitude'] = 88.3975"
   ]
  },
  {
   "cell_type": "code",
   "execution_count": 34,
   "metadata": {},
   "outputs": [
    {
     "data": {
      "text/plain": [
       "Unnamed: 0           int64\n",
       "City                object\n",
       "Inhabitant Term     object\n",
       "Suffix              object\n",
       "lattitude          float64\n",
       "longitude          float64\n",
       "dtype: object"
      ]
     },
     "execution_count": 34,
     "metadata": {},
     "output_type": "execute_result"
    }
   ],
   "source": [
    "df.dtypes"
   ]
  },
  {
   "cell_type": "code",
   "execution_count": 35,
   "metadata": {},
   "outputs": [],
   "source": [
    "df.to_excel(\"data_updated_new.xlsx\")"
   ]
  },
  {
   "cell_type": "markdown",
   "metadata": {},
   "source": [
    "## Approach #2: Using Word encoding"
   ]
  },
  {
   "cell_type": "code",
   "execution_count": 32,
   "metadata": {},
   "outputs": [],
   "source": [
    "from sklearn.model_selection import train_test_split\n",
    "from sklearn.feature_extraction.text import CountVectorizer\n",
    "from sklearn.metrics import accuracy_score, classification_report\n",
    "from sklearn.feature_extraction.text import TfidfVectorizer\n",
    "from sklearn.ensemble import RandomForestClassifier"
   ]
  },
  {
   "cell_type": "code",
   "execution_count": 228,
   "metadata": {},
   "outputs": [],
   "source": [
    "# Import necessary libraries\n",
    "import pandas as pd\n"
   ]
  },
  {
   "cell_type": "code",
   "execution_count": 229,
   "metadata": {},
   "outputs": [],
   "source": [
    "data = pd.read_excel('data_updated_new.xlsx')"
   ]
  },
  {
   "cell_type": "code",
   "execution_count": 230,
   "metadata": {},
   "outputs": [],
   "source": [
    "data['City'] = data['City'].apply(lambda x : x.lower())"
   ]
  },
  {
   "cell_type": "code",
   "execution_count": 231,
   "metadata": {},
   "outputs": [],
   "source": [
    "data['Inhabitant Term'] = data['Inhabitant Term'].apply(lambda x: x.lower())"
   ]
  },
  {
   "cell_type": "code",
   "execution_count": 232,
   "metadata": {},
   "outputs": [],
   "source": [
    "data = data.dropna()"
   ]
  },
  {
   "cell_type": "code",
   "execution_count": 233,
   "metadata": {},
   "outputs": [
    {
     "data": {
      "text/html": [
       "<div>\n",
       "<style scoped>\n",
       "    .dataframe tbody tr th:only-of-type {\n",
       "        vertical-align: middle;\n",
       "    }\n",
       "\n",
       "    .dataframe tbody tr th {\n",
       "        vertical-align: top;\n",
       "    }\n",
       "\n",
       "    .dataframe thead th {\n",
       "        text-align: right;\n",
       "    }\n",
       "</style>\n",
       "<table border=\"1\" class=\"dataframe\">\n",
       "  <thead>\n",
       "    <tr style=\"text-align: right;\">\n",
       "      <th></th>\n",
       "      <th>Unnamed: 0.1</th>\n",
       "      <th>Unnamed: 0</th>\n",
       "      <th>City</th>\n",
       "      <th>Inhabitant Term</th>\n",
       "      <th>Suffix</th>\n",
       "      <th>lattitude</th>\n",
       "      <th>longitude</th>\n",
       "    </tr>\n",
       "  </thead>\n",
       "  <tbody>\n",
       "    <tr>\n",
       "      <th>0</th>\n",
       "      <td>0</td>\n",
       "      <td>0</td>\n",
       "      <td>chandrapur</td>\n",
       "      <td>chandrapurkar</td>\n",
       "      <td>kar</td>\n",
       "      <td>19.950816</td>\n",
       "      <td>79.298667</td>\n",
       "    </tr>\n",
       "    <tr>\n",
       "      <th>1</th>\n",
       "      <td>1</td>\n",
       "      <td>1</td>\n",
       "      <td>gadchiroli</td>\n",
       "      <td>gadchirolikar</td>\n",
       "      <td>kar</td>\n",
       "      <td>20.185397</td>\n",
       "      <td>80.003509</td>\n",
       "    </tr>\n",
       "    <tr>\n",
       "      <th>2</th>\n",
       "      <td>2</td>\n",
       "      <td>2</td>\n",
       "      <td>wardha</td>\n",
       "      <td>wardhikar</td>\n",
       "      <td>ikar</td>\n",
       "      <td>20.746494</td>\n",
       "      <td>78.599792</td>\n",
       "    </tr>\n",
       "    <tr>\n",
       "      <th>3</th>\n",
       "      <td>3</td>\n",
       "      <td>3</td>\n",
       "      <td>buldhana</td>\n",
       "      <td>buldhanakar</td>\n",
       "      <td>kar</td>\n",
       "      <td>20.532080</td>\n",
       "      <td>76.179911</td>\n",
       "    </tr>\n",
       "    <tr>\n",
       "      <th>4</th>\n",
       "      <td>4</td>\n",
       "      <td>4</td>\n",
       "      <td>latur</td>\n",
       "      <td>laturkar</td>\n",
       "      <td>kar</td>\n",
       "      <td>18.398339</td>\n",
       "      <td>76.562087</td>\n",
       "    </tr>\n",
       "  </tbody>\n",
       "</table>\n",
       "</div>"
      ],
      "text/plain": [
       "   Unnamed: 0.1  Unnamed: 0        City Inhabitant Term Suffix  lattitude  \\\n",
       "0             0           0  chandrapur   chandrapurkar    kar  19.950816   \n",
       "1             1           1  gadchiroli   gadchirolikar    kar  20.185397   \n",
       "2             2           2      wardha       wardhikar   ikar  20.746494   \n",
       "3             3           3    buldhana     buldhanakar    kar  20.532080   \n",
       "4             4           4       latur        laturkar    kar  18.398339   \n",
       "\n",
       "   longitude  \n",
       "0  79.298667  \n",
       "1  80.003509  \n",
       "2  78.599792  \n",
       "3  76.179911  \n",
       "4  76.562087  "
      ]
     },
     "execution_count": 233,
     "metadata": {},
     "output_type": "execute_result"
    }
   ],
   "source": [
    "data.head()"
   ]
  },
  {
   "cell_type": "code",
   "execution_count": 234,
   "metadata": {},
   "outputs": [],
   "source": [
    "X = data[['City','lattitude', 'longitude']]\n",
    "y = data['Suffix']"
   ]
  },
  {
   "cell_type": "code",
   "execution_count": 235,
   "metadata": {},
   "outputs": [],
   "source": [
    "# Split the data into training and testing sets\n",
    "X_train, X_test, y_train, y_test = train_test_split(X, y, test_size=0.2, random_state=42,shuffle=True)"
   ]
  },
  {
   "cell_type": "code",
   "execution_count": 236,
   "metadata": {},
   "outputs": [],
   "source": [
    "# Convert categorical variables into numerical features using TF-IDF vectorization\n",
    "tfidf_vectorizer = TfidfVectorizer()\n",
    "X_train_transformed = tfidf_vectorizer.fit_transform(X_train.apply(lambda x: ' '.join(x.astype(str)), axis=1))\n",
    "X_test_transformed = tfidf_vectorizer.transform(X_test.apply(lambda x: ' '.join(x.astype(str)), axis=1))"
   ]
  },
  {
   "cell_type": "code",
   "execution_count": 237,
   "metadata": {},
   "outputs": [],
   "source": [
    "from sklearn.ensemble import GradientBoostingClassifier"
   ]
  },
  {
   "cell_type": "code",
   "execution_count": 238,
   "metadata": {},
   "outputs": [],
   "source": [
    "model = RandomForestClassifier(n_estimators=50, random_state=3)"
   ]
  },
  {
   "cell_type": "code",
   "execution_count": 239,
   "metadata": {},
   "outputs": [
    {
     "data": {
      "text/html": [
       "<style>#sk-container-id-24 {color: black;}#sk-container-id-24 pre{padding: 0;}#sk-container-id-24 div.sk-toggleable {background-color: white;}#sk-container-id-24 label.sk-toggleable__label {cursor: pointer;display: block;width: 100%;margin-bottom: 0;padding: 0.3em;box-sizing: border-box;text-align: center;}#sk-container-id-24 label.sk-toggleable__label-arrow:before {content: \"▸\";float: left;margin-right: 0.25em;color: #696969;}#sk-container-id-24 label.sk-toggleable__label-arrow:hover:before {color: black;}#sk-container-id-24 div.sk-estimator:hover label.sk-toggleable__label-arrow:before {color: black;}#sk-container-id-24 div.sk-toggleable__content {max-height: 0;max-width: 0;overflow: hidden;text-align: left;background-color: #f0f8ff;}#sk-container-id-24 div.sk-toggleable__content pre {margin: 0.2em;color: black;border-radius: 0.25em;background-color: #f0f8ff;}#sk-container-id-24 input.sk-toggleable__control:checked~div.sk-toggleable__content {max-height: 200px;max-width: 100%;overflow: auto;}#sk-container-id-24 input.sk-toggleable__control:checked~label.sk-toggleable__label-arrow:before {content: \"▾\";}#sk-container-id-24 div.sk-estimator input.sk-toggleable__control:checked~label.sk-toggleable__label {background-color: #d4ebff;}#sk-container-id-24 div.sk-label input.sk-toggleable__control:checked~label.sk-toggleable__label {background-color: #d4ebff;}#sk-container-id-24 input.sk-hidden--visually {border: 0;clip: rect(1px 1px 1px 1px);clip: rect(1px, 1px, 1px, 1px);height: 1px;margin: -1px;overflow: hidden;padding: 0;position: absolute;width: 1px;}#sk-container-id-24 div.sk-estimator {font-family: monospace;background-color: #f0f8ff;border: 1px dotted black;border-radius: 0.25em;box-sizing: border-box;margin-bottom: 0.5em;}#sk-container-id-24 div.sk-estimator:hover {background-color: #d4ebff;}#sk-container-id-24 div.sk-parallel-item::after {content: \"\";width: 100%;border-bottom: 1px solid gray;flex-grow: 1;}#sk-container-id-24 div.sk-label:hover label.sk-toggleable__label {background-color: #d4ebff;}#sk-container-id-24 div.sk-serial::before {content: \"\";position: absolute;border-left: 1px solid gray;box-sizing: border-box;top: 0;bottom: 0;left: 50%;z-index: 0;}#sk-container-id-24 div.sk-serial {display: flex;flex-direction: column;align-items: center;background-color: white;padding-right: 0.2em;padding-left: 0.2em;position: relative;}#sk-container-id-24 div.sk-item {position: relative;z-index: 1;}#sk-container-id-24 div.sk-parallel {display: flex;align-items: stretch;justify-content: center;background-color: white;position: relative;}#sk-container-id-24 div.sk-item::before, #sk-container-id-24 div.sk-parallel-item::before {content: \"\";position: absolute;border-left: 1px solid gray;box-sizing: border-box;top: 0;bottom: 0;left: 50%;z-index: -1;}#sk-container-id-24 div.sk-parallel-item {display: flex;flex-direction: column;z-index: 1;position: relative;background-color: white;}#sk-container-id-24 div.sk-parallel-item:first-child::after {align-self: flex-end;width: 50%;}#sk-container-id-24 div.sk-parallel-item:last-child::after {align-self: flex-start;width: 50%;}#sk-container-id-24 div.sk-parallel-item:only-child::after {width: 0;}#sk-container-id-24 div.sk-dashed-wrapped {border: 1px dashed gray;margin: 0 0.4em 0.5em 0.4em;box-sizing: border-box;padding-bottom: 0.4em;background-color: white;}#sk-container-id-24 div.sk-label label {font-family: monospace;font-weight: bold;display: inline-block;line-height: 1.2em;}#sk-container-id-24 div.sk-label-container {text-align: center;}#sk-container-id-24 div.sk-container {/* jupyter's `normalize.less` sets `[hidden] { display: none; }` but bootstrap.min.css set `[hidden] { display: none !important; }` so we also need the `!important` here to be able to override the default hidden behavior on the sphinx rendered scikit-learn.org. See: https://github.com/scikit-learn/scikit-learn/issues/21755 */display: inline-block !important;position: relative;}#sk-container-id-24 div.sk-text-repr-fallback {display: none;}</style><div id=\"sk-container-id-24\" class=\"sk-top-container\"><div class=\"sk-text-repr-fallback\"><pre>RandomForestClassifier(n_estimators=50, random_state=3)</pre><b>In a Jupyter environment, please rerun this cell to show the HTML representation or trust the notebook. <br />On GitHub, the HTML representation is unable to render, please try loading this page with nbviewer.org.</b></div><div class=\"sk-container\" hidden><div class=\"sk-item\"><div class=\"sk-estimator sk-toggleable\"><input class=\"sk-toggleable__control sk-hidden--visually\" id=\"sk-estimator-id-24\" type=\"checkbox\" checked><label for=\"sk-estimator-id-24\" class=\"sk-toggleable__label sk-toggleable__label-arrow\">RandomForestClassifier</label><div class=\"sk-toggleable__content\"><pre>RandomForestClassifier(n_estimators=50, random_state=3)</pre></div></div></div></div></div>"
      ],
      "text/plain": [
       "RandomForestClassifier(n_estimators=50, random_state=3)"
      ]
     },
     "execution_count": 239,
     "metadata": {},
     "output_type": "execute_result"
    }
   ],
   "source": [
    "model.fit(X_train_transformed, y_train)"
   ]
  },
  {
   "cell_type": "code",
   "execution_count": 240,
   "metadata": {},
   "outputs": [],
   "source": [
    "y_pred = model.predict(X_test_transformed)"
   ]
  },
  {
   "cell_type": "code",
   "execution_count": 241,
   "metadata": {},
   "outputs": [],
   "source": [
    "y_pred1 = model.predict(X_train_transformed)"
   ]
  },
  {
   "cell_type": "code",
   "execution_count": 242,
   "metadata": {},
   "outputs": [
    {
     "data": {
      "text/plain": [
       "96.23567921440261"
      ]
     },
     "execution_count": 242,
     "metadata": {},
     "output_type": "execute_result"
    }
   ],
   "source": [
    "accuracy_score(y_train,y_pred1)*100"
   ]
  },
  {
   "cell_type": "code",
   "execution_count": 243,
   "metadata": {},
   "outputs": [
    {
     "name": "stdout",
     "output_type": "stream",
     "text": [
      "Accuracy: 28.76%\n"
     ]
    }
   ],
   "source": [
    "accuracy = accuracy_score(y_test, y_pred)\n",
    "print(f\"Accuracy: {accuracy*100:.2f}%\")"
   ]
  },
  {
   "cell_type": "code",
   "execution_count": 372,
   "metadata": {},
   "outputs": [],
   "source": [
    "new_Data = 'mumbai'\n",
    "geospatial_locations = get_geospatial_locations(new_Data)\n",
    "lat = geospatial_locations[0]['latitude']\n",
    "lon1 = geospatial_locations[0]['longitude']"
   ]
  },
  {
   "cell_type": "code",
   "execution_count": 373,
   "metadata": {},
   "outputs": [],
   "source": [
    "df1 = pd.DataFrame({'City':[new_Data],'lattitude':[lat],'longitude':[lon1]})"
   ]
  },
  {
   "cell_type": "code",
   "execution_count": 374,
   "metadata": {},
   "outputs": [],
   "source": [
    "transformed_X = tfidf_vectorizer.transform(df1.apply(lambda x: ' '.join(x.astype(str)), axis=1))"
   ]
  },
  {
   "cell_type": "code",
   "execution_count": 375,
   "metadata": {},
   "outputs": [
    {
     "name": "stdout",
     "output_type": "stream",
     "text": [
      "Prediction : mumbaikar\n"
     ]
    }
   ],
   "source": [
    "print(f\"Prediction : {new_Data + model.predict(transformed_X)[0]}\")"
   ]
  },
  {
   "cell_type": "markdown",
   "metadata": {},
   "source": [
    "## Appraoch 3: Using Character encoding"
   ]
  },
  {
   "cell_type": "code",
   "execution_count": 213,
   "metadata": {},
   "outputs": [],
   "source": [
    "import numpy as np\n",
    "from sklearn.preprocessing import StandardScaler\n",
    "from sklearn.ensemble import RandomForestClassifier\n",
    "from sklearn.model_selection import train_test_split\n",
    "from sklearn.metrics import accuracy_score"
   ]
  },
  {
   "cell_type": "code",
   "execution_count": 214,
   "metadata": {},
   "outputs": [],
   "source": [
    "all_letters = set()\n",
    "maxLen = 0\n",
    "for i in range(len(data)):\n",
    "    word1 = data.iloc[i]['City']\n",
    "    word2 = data.iloc[i]['Suffix']\n",
    "    for j in word1:\n",
    "        all_letters.add(j)\n",
    "    for j in word2:\n",
    "        all_letters.add(j)\n",
    "\n",
    "    maxLen = max(maxLen,len(word1),len(word2))"
   ]
  },
  {
   "cell_type": "code",
   "execution_count": 215,
   "metadata": {},
   "outputs": [],
   "source": [
    "char_to_int = {char: i for i, char in enumerate(all_letters)}"
   ]
  },
  {
   "cell_type": "code",
   "execution_count": 216,
   "metadata": {},
   "outputs": [],
   "source": [
    "def one_hot_encode(char):\n",
    "    encoding = np.zeros(len(char_to_int))\n",
    "    encoding[char_to_int[char]] = 1\n",
    "    return encoding"
   ]
  },
  {
   "cell_type": "code",
   "execution_count": 217,
   "metadata": {},
   "outputs": [],
   "source": [
    "def get_encode(word):\n",
    "    word_encoding = [one_hot_encode(char) for char in word]\n",
    "    while len(word_encoding) < maxLen:\n",
    "        word_encoding.append(np.zeros(len(char_to_int)))\n",
    "    return np.array(word_encoding).flatten()"
   ]
  },
  {
   "cell_type": "code",
   "execution_count": 218,
   "metadata": {},
   "outputs": [],
   "source": [
    "cityEnc = []\n",
    "suffEnc = []\n",
    "for i in range(len(data)):\n",
    "    cityEnc.append(get_encode(data.iloc[i]['City']))\n",
    "    suffEnc.append(get_encode(data.iloc[i]['Suffix']))"
   ]
  },
  {
   "cell_type": "code",
   "execution_count": 220,
   "metadata": {},
   "outputs": [],
   "source": [
    "X_word = np.array(cityEnc)"
   ]
  },
  {
   "cell_type": "code",
   "execution_count": 221,
   "metadata": {},
   "outputs": [],
   "source": [
    "X_float1 = np.array(data['lattitude']).reshape(-1, 1)\n",
    "X_float2 = np.array(data['longitude']).reshape(-1, 1)"
   ]
  },
  {
   "cell_type": "code",
   "execution_count": 222,
   "metadata": {},
   "outputs": [],
   "source": [
    "X_combined = np.hstack((X_word, X_float1, X_float2))"
   ]
  },
  {
   "cell_type": "code",
   "execution_count": 223,
   "metadata": {},
   "outputs": [],
   "source": [
    "y = np.array(suffEnc)"
   ]
  },
  {
   "cell_type": "code",
   "execution_count": 224,
   "metadata": {},
   "outputs": [],
   "source": [
    "# Split the data into training and testing sets\n",
    "X_train, X_test, y_train, y_test = train_test_split(X_combined, y, test_size=0.2, random_state=42)"
   ]
  },
  {
   "cell_type": "code",
   "execution_count": 225,
   "metadata": {},
   "outputs": [],
   "source": [
    "# Standardize the float features (mean=0, std=1)\n",
    "scaler = StandardScaler()\n",
    "X_train[:, -(X_float1.shape[1] + X_float2.shape[1]):] = scaler.fit_transform(X_train[:, -(X_float1.shape[1] + X_float2.shape[1]):])\n",
    "X_test[:, -(X_float1.shape[1] + X_float2.shape[1]):] = scaler.transform(X_test[:, -(X_float1.shape[1] + X_float2.shape[1]):])"
   ]
  },
  {
   "cell_type": "code",
   "execution_count": 67,
   "metadata": {},
   "outputs": [],
   "source": [
    "# Initialize the Random Forest classifier\n",
    "rf_classifier = RandomForestClassifier(n_estimators=100, random_state=42)\n",
    "\n",
    "# Train the classifier on the training data\n",
    "rf_classifier.fit(X_train, y_train)\n",
    "\n",
    "# Make predictions on the test data\n",
    "y_pred = rf_classifier.predict(X_test)\n",
    "\n",
    "# Calculate accuracy\n",
    "accuracy = accuracy_score(y_test, y_pred)\n"
   ]
  },
  {
   "cell_type": "code",
   "execution_count": 68,
   "metadata": {},
   "outputs": [
    {
     "name": "stdout",
     "output_type": "stream",
     "text": [
      "Accuracy 11.111111%\n"
     ]
    }
   ],
   "source": [
    "print(f\"Accuracy {accuracy*100:2f}%\")"
   ]
  },
  {
   "cell_type": "code",
   "execution_count": 302,
   "metadata": {},
   "outputs": [],
   "source": [
    "new_Data = 'bengal'\n",
    "geospatial_locations = get_geospatial_locations(new_Data)\n",
    "lat = geospatial_locations[0]['latitude']\n",
    "lon1 = geospatial_locations[0]['longitude']"
   ]
  },
  {
   "cell_type": "code",
   "execution_count": 303,
   "metadata": {},
   "outputs": [],
   "source": [
    "df1 = pd.DataFrame({'City':[new_Data],'lattitude':[lat],'longitude':[lon1]})"
   ]
  },
  {
   "cell_type": "code",
   "execution_count": 305,
   "metadata": {},
   "outputs": [],
   "source": [
    "cityEnc_n = []\n",
    "for i in range(len(df1)):\n",
    "    cityEnc_n.append(get_encode(df1.iloc[i]['City']))"
   ]
  },
  {
   "cell_type": "code",
   "execution_count": 306,
   "metadata": {},
   "outputs": [],
   "source": [
    "X_word = np.array(cityEnc_n)"
   ]
  },
  {
   "cell_type": "code",
   "execution_count": 307,
   "metadata": {},
   "outputs": [],
   "source": [
    "X_float1 = np.array(df1['lattitude']).reshape(-1, 1)\n",
    "X_float2 = np.array(df1['longitude']).reshape(-1, 1)"
   ]
  },
  {
   "cell_type": "code",
   "execution_count": 308,
   "metadata": {},
   "outputs": [],
   "source": [
    "X_combined = np.hstack((X_word, X_float1, X_float2))"
   ]
  },
  {
   "cell_type": "code",
   "execution_count": 309,
   "metadata": {},
   "outputs": [],
   "source": [
    "X_test = X_combined"
   ]
  },
  {
   "cell_type": "code",
   "execution_count": 310,
   "metadata": {},
   "outputs": [],
   "source": [
    "X_test[:, -(X_float1.shape[1] + X_float2.shape[1]):] = scaler.transform(X_test[:, -(X_float1.shape[1] + X_float2.shape[1]):])"
   ]
  },
  {
   "cell_type": "code",
   "execution_count": 311,
   "metadata": {},
   "outputs": [],
   "source": [
    "y_pred = rf_classifier.predict(X_test)"
   ]
  },
  {
   "cell_type": "code",
   "execution_count": 319,
   "metadata": {},
   "outputs": [
    {
     "name": "stdout",
     "output_type": "stream",
     "text": [
      "18\n"
     ]
    }
   ],
   "source": [
    "for i in range(len(y_pred.tolist()[0])):\n",
    "    if y_pred.tolist()[0][i]>0:\n",
    "        print(i)"
   ]
  },
  {
   "cell_type": "code",
   "execution_count": null,
   "metadata": {},
   "outputs": [],
   "source": [
    "list(all_letters)"
   ]
  },
  {
   "cell_type": "code",
   "execution_count": 322,
   "metadata": {},
   "outputs": [
    {
     "data": {
      "text/plain": [
       "'i'"
      ]
     },
     "execution_count": 322,
     "metadata": {},
     "output_type": "execute_result"
    }
   ],
   "source": [
    "list(all_letters)[18]"
   ]
  },
  {
   "cell_type": "markdown",
   "metadata": {},
   "source": [
    "## Conclusion: \n",
    "2nd method performs the best with `28.76%` accuracy"
   ]
  }
 ],
 "metadata": {
  "kernelspec": {
   "display_name": "Python 3",
   "language": "python",
   "name": "python3"
  },
  "language_info": {
   "codemirror_mode": {
    "name": "ipython",
    "version": 3
   },
   "file_extension": ".py",
   "mimetype": "text/x-python",
   "name": "python",
   "nbconvert_exporter": "python",
   "pygments_lexer": "ipython3",
   "version": "3.10.12"
  },
  "orig_nbformat": 4
 },
 "nbformat": 4,
 "nbformat_minor": 2
}
